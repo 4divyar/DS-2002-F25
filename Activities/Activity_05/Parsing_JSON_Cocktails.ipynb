{
 "cells": [
  {
   "cell_type": "code",
   "execution_count": 1,
   "id": "46797fab-a142-46b6-9159-c56ab23e5037",
   "metadata": {},
   "outputs": [],
   "source": [
    "import numpy as np\n",
    "import pandas as pd\n",
    "import requests #enables python to download from and send data to the internet\n",
    "import json"
   ]
  },
  {
   "cell_type": "markdown",
   "id": "d7582768-da8e-468b-96cd-3ff4dff4b936",
   "metadata": {},
   "source": [
    "## First let's get our user agent string"
   ]
  },
  {
   "cell_type": "code",
   "execution_count": 2,
   "id": "eff8f485-e794-4088-99b5-60974fd9dc4a",
   "metadata": {},
   "outputs": [
    {
     "data": {
      "text/plain": [
       "<Response [200]>"
      ]
     },
     "execution_count": 2,
     "metadata": {},
     "output_type": "execute_result"
    }
   ],
   "source": [
    "url = 'https://httpbin.org/user-agent'\n",
    "r = requests.get(url)\n",
    "r"
   ]
  },
  {
   "cell_type": "code",
   "execution_count": 3,
   "id": "2c5762ed-142d-4be7-9f75-25864f6d1636",
   "metadata": {},
   "outputs": [
    {
     "data": {
      "text/plain": [
       "'{\\n  \"user-agent\": \"python-requests/2.32.3\"\\n}\\n'"
      ]
     },
     "execution_count": 3,
     "metadata": {},
     "output_type": "execute_result"
    }
   ],
   "source": [
    "r.text"
   ]
  },
  {
   "cell_type": "code",
   "execution_count": 4,
   "id": "a1d4abdc-a0c7-428f-b01b-4844de9d38c0",
   "metadata": {},
   "outputs": [
    {
     "data": {
      "text/plain": [
       "'python-requests/2.32.3'"
      ]
     },
     "execution_count": 4,
     "metadata": {},
     "output_type": "execute_result"
    }
   ],
   "source": [
    "myjson = json.loads(r.text)\n",
    "useragent = myjson['user-agent']\n",
    "useragent"
   ]
  },
  {
   "cell_type": "code",
   "execution_count": 5,
   "id": "82e83676-0d5f-4902-b689-bd832109a4b4",
   "metadata": {},
   "outputs": [],
   "source": [
    "## Do the above (supply your useragent string) any time you set up/access an API on the internet, and for the coming homework\n",
    "## Some APIs will deny your get request if you do not supply/give your useragent"
   ]
  },
  {
   "cell_type": "markdown",
   "id": "1de7f1db-0694-4e22-b7bd-373ad29e976e",
   "metadata": {},
   "source": [
    "## Cocktail DB"
   ]
  },
  {
   "cell_type": "code",
   "execution_count": 6,
   "id": "d47322da-ea22-47d4-b486-621d2a086adf",
   "metadata": {},
   "outputs": [],
   "source": [
    "url = 'https://www.thecocktaildb.com/api/json/v1/1/random.php'"
   ]
  },
  {
   "cell_type": "code",
   "execution_count": 7,
   "id": "299dbc79-d0b6-4206-a7e5-268a087baafe",
   "metadata": {},
   "outputs": [
    {
     "data": {
      "text/plain": [
       "<Response [200]>"
      ]
     },
     "execution_count": 7,
     "metadata": {},
     "output_type": "execute_result"
    }
   ],
   "source": [
    "#url = 'https://www.thecocktaildb.com/api/json/v1/1/filter.php?c=Cocktail'\n",
    "headers = {'User-agent':useragent,        #information you give the website before it gives you the data\n",
    "          'From': 'atr8ec@virginia.edu'}  #very optional good samaritan thing to give transparency (in case you accidentally ddos them)\n",
    "r = requests.get(url, headers=headers)\n",
    "r"
   ]
  },
  {
   "cell_type": "code",
   "execution_count": 8,
   "id": "6bd84638-eb3d-4704-8d1c-9bed48b11cf0",
   "metadata": {},
   "outputs": [
    {
     "data": {
      "text/plain": [
       "{'drinks': [{'idDrink': '12668',\n",
       "   'strDrink': 'Egg Cream',\n",
       "   'strDrinkAlternate': None,\n",
       "   'strTags': None,\n",
       "   'strVideo': None,\n",
       "   'strCategory': 'Other / Unknown',\n",
       "   'strIBA': None,\n",
       "   'strAlcoholic': 'Non alcoholic',\n",
       "   'strGlass': 'Coffee mug',\n",
       "   'strInstructions': 'Mix syrup and milk in a fountain glass. Add soda water, serve with a straw.',\n",
       "   'strInstructionsES': None,\n",
       "   'strInstructionsDE': 'Sirup und Milch in einem Fontänenglas mischen. Mit Sodawasser aufgießen und mit einem Strohhalm servieren.',\n",
       "   'strInstructionsFR': None,\n",
       "   'strInstructionsIT': 'Mescolare lo sciroppo e il latte in un bicchiere da fontana. Aggiungere la soda water, servire con una cannuccia.',\n",
       "   'strInstructionsZH-HANS': None,\n",
       "   'strInstructionsZH-HANT': None,\n",
       "   'strDrinkThumb': 'https://www.thecocktaildb.com/images/media/drink/mvis731484430445.jpg',\n",
       "   'strIngredient1': 'Chocolate syrup',\n",
       "   'strIngredient2': 'Milk',\n",
       "   'strIngredient3': 'Soda water',\n",
       "   'strIngredient4': None,\n",
       "   'strIngredient5': None,\n",
       "   'strIngredient6': None,\n",
       "   'strIngredient7': None,\n",
       "   'strIngredient8': None,\n",
       "   'strIngredient9': None,\n",
       "   'strIngredient10': None,\n",
       "   'strIngredient11': None,\n",
       "   'strIngredient12': None,\n",
       "   'strIngredient13': None,\n",
       "   'strIngredient14': None,\n",
       "   'strIngredient15': None,\n",
       "   'strMeasure1': '2 tblsp ',\n",
       "   'strMeasure2': '6 oz whole ',\n",
       "   'strMeasure3': '6 oz ',\n",
       "   'strMeasure4': None,\n",
       "   'strMeasure5': None,\n",
       "   'strMeasure6': None,\n",
       "   'strMeasure7': None,\n",
       "   'strMeasure8': None,\n",
       "   'strMeasure9': None,\n",
       "   'strMeasure10': None,\n",
       "   'strMeasure11': None,\n",
       "   'strMeasure12': None,\n",
       "   'strMeasure13': None,\n",
       "   'strMeasure14': None,\n",
       "   'strMeasure15': None,\n",
       "   'strImageSource': None,\n",
       "   'strImageAttribution': None,\n",
       "   'strCreativeCommonsConfirmed': 'No',\n",
       "   'dateModified': '2017-01-14 21:47:26'}]}"
      ]
     },
     "execution_count": 8,
     "metadata": {},
     "output_type": "execute_result"
    }
   ],
   "source": [
    "myjson = json.loads(r.text)\n",
    "myjson"
   ]
  },
  {
   "cell_type": "code",
   "execution_count": 9,
   "id": "9dfce44b-8641-4bf8-bf8f-2aa8a4c66a4e",
   "metadata": {},
   "outputs": [],
   "source": [
    "cocktail_df = pd.json_normalize(myjson, record_path = ['drinks'])"
   ]
  },
  {
   "cell_type": "code",
   "execution_count": 10,
   "id": "ec7cedcb-cd1d-476e-9986-6e50c46f19cd",
   "metadata": {},
   "outputs": [
    {
     "data": {
      "text/html": [
       "<div>\n",
       "<style scoped>\n",
       "    .dataframe tbody tr th:only-of-type {\n",
       "        vertical-align: middle;\n",
       "    }\n",
       "\n",
       "    .dataframe tbody tr th {\n",
       "        vertical-align: top;\n",
       "    }\n",
       "\n",
       "    .dataframe thead th {\n",
       "        text-align: right;\n",
       "    }\n",
       "</style>\n",
       "<table border=\"1\" class=\"dataframe\">\n",
       "  <thead>\n",
       "    <tr style=\"text-align: right;\">\n",
       "      <th></th>\n",
       "      <th>0</th>\n",
       "    </tr>\n",
       "  </thead>\n",
       "  <tbody>\n",
       "    <tr>\n",
       "      <th>idDrink</th>\n",
       "      <td>12668</td>\n",
       "    </tr>\n",
       "    <tr>\n",
       "      <th>strDrink</th>\n",
       "      <td>Egg Cream</td>\n",
       "    </tr>\n",
       "    <tr>\n",
       "      <th>strDrinkAlternate</th>\n",
       "      <td>None</td>\n",
       "    </tr>\n",
       "    <tr>\n",
       "      <th>strTags</th>\n",
       "      <td>None</td>\n",
       "    </tr>\n",
       "    <tr>\n",
       "      <th>strVideo</th>\n",
       "      <td>None</td>\n",
       "    </tr>\n",
       "    <tr>\n",
       "      <th>strCategory</th>\n",
       "      <td>Other / Unknown</td>\n",
       "    </tr>\n",
       "    <tr>\n",
       "      <th>strIBA</th>\n",
       "      <td>None</td>\n",
       "    </tr>\n",
       "    <tr>\n",
       "      <th>strAlcoholic</th>\n",
       "      <td>Non alcoholic</td>\n",
       "    </tr>\n",
       "    <tr>\n",
       "      <th>strGlass</th>\n",
       "      <td>Coffee mug</td>\n",
       "    </tr>\n",
       "    <tr>\n",
       "      <th>strInstructions</th>\n",
       "      <td>Mix syrup and milk in a fountain glass. Add so...</td>\n",
       "    </tr>\n",
       "    <tr>\n",
       "      <th>strInstructionsES</th>\n",
       "      <td>None</td>\n",
       "    </tr>\n",
       "    <tr>\n",
       "      <th>strInstructionsDE</th>\n",
       "      <td>Sirup und Milch in einem Fontänenglas mischen....</td>\n",
       "    </tr>\n",
       "    <tr>\n",
       "      <th>strInstructionsFR</th>\n",
       "      <td>None</td>\n",
       "    </tr>\n",
       "    <tr>\n",
       "      <th>strInstructionsIT</th>\n",
       "      <td>Mescolare lo sciroppo e il latte in un bicchie...</td>\n",
       "    </tr>\n",
       "    <tr>\n",
       "      <th>strInstructionsZH-HANS</th>\n",
       "      <td>None</td>\n",
       "    </tr>\n",
       "    <tr>\n",
       "      <th>strInstructionsZH-HANT</th>\n",
       "      <td>None</td>\n",
       "    </tr>\n",
       "    <tr>\n",
       "      <th>strDrinkThumb</th>\n",
       "      <td>https://www.thecocktaildb.com/images/media/dri...</td>\n",
       "    </tr>\n",
       "    <tr>\n",
       "      <th>strIngredient1</th>\n",
       "      <td>Chocolate syrup</td>\n",
       "    </tr>\n",
       "    <tr>\n",
       "      <th>strIngredient2</th>\n",
       "      <td>Milk</td>\n",
       "    </tr>\n",
       "    <tr>\n",
       "      <th>strIngredient3</th>\n",
       "      <td>Soda water</td>\n",
       "    </tr>\n",
       "    <tr>\n",
       "      <th>strIngredient4</th>\n",
       "      <td>None</td>\n",
       "    </tr>\n",
       "    <tr>\n",
       "      <th>strIngredient5</th>\n",
       "      <td>None</td>\n",
       "    </tr>\n",
       "    <tr>\n",
       "      <th>strIngredient6</th>\n",
       "      <td>None</td>\n",
       "    </tr>\n",
       "    <tr>\n",
       "      <th>strIngredient7</th>\n",
       "      <td>None</td>\n",
       "    </tr>\n",
       "    <tr>\n",
       "      <th>strIngredient8</th>\n",
       "      <td>None</td>\n",
       "    </tr>\n",
       "    <tr>\n",
       "      <th>strIngredient9</th>\n",
       "      <td>None</td>\n",
       "    </tr>\n",
       "    <tr>\n",
       "      <th>strIngredient10</th>\n",
       "      <td>None</td>\n",
       "    </tr>\n",
       "    <tr>\n",
       "      <th>strIngredient11</th>\n",
       "      <td>None</td>\n",
       "    </tr>\n",
       "    <tr>\n",
       "      <th>strIngredient12</th>\n",
       "      <td>None</td>\n",
       "    </tr>\n",
       "    <tr>\n",
       "      <th>strIngredient13</th>\n",
       "      <td>None</td>\n",
       "    </tr>\n",
       "    <tr>\n",
       "      <th>strIngredient14</th>\n",
       "      <td>None</td>\n",
       "    </tr>\n",
       "    <tr>\n",
       "      <th>strIngredient15</th>\n",
       "      <td>None</td>\n",
       "    </tr>\n",
       "    <tr>\n",
       "      <th>strMeasure1</th>\n",
       "      <td>2 tblsp</td>\n",
       "    </tr>\n",
       "    <tr>\n",
       "      <th>strMeasure2</th>\n",
       "      <td>6 oz whole</td>\n",
       "    </tr>\n",
       "    <tr>\n",
       "      <th>strMeasure3</th>\n",
       "      <td>6 oz</td>\n",
       "    </tr>\n",
       "    <tr>\n",
       "      <th>strMeasure4</th>\n",
       "      <td>None</td>\n",
       "    </tr>\n",
       "    <tr>\n",
       "      <th>strMeasure5</th>\n",
       "      <td>None</td>\n",
       "    </tr>\n",
       "    <tr>\n",
       "      <th>strMeasure6</th>\n",
       "      <td>None</td>\n",
       "    </tr>\n",
       "    <tr>\n",
       "      <th>strMeasure7</th>\n",
       "      <td>None</td>\n",
       "    </tr>\n",
       "    <tr>\n",
       "      <th>strMeasure8</th>\n",
       "      <td>None</td>\n",
       "    </tr>\n",
       "    <tr>\n",
       "      <th>strMeasure9</th>\n",
       "      <td>None</td>\n",
       "    </tr>\n",
       "    <tr>\n",
       "      <th>strMeasure10</th>\n",
       "      <td>None</td>\n",
       "    </tr>\n",
       "    <tr>\n",
       "      <th>strMeasure11</th>\n",
       "      <td>None</td>\n",
       "    </tr>\n",
       "    <tr>\n",
       "      <th>strMeasure12</th>\n",
       "      <td>None</td>\n",
       "    </tr>\n",
       "    <tr>\n",
       "      <th>strMeasure13</th>\n",
       "      <td>None</td>\n",
       "    </tr>\n",
       "    <tr>\n",
       "      <th>strMeasure14</th>\n",
       "      <td>None</td>\n",
       "    </tr>\n",
       "    <tr>\n",
       "      <th>strMeasure15</th>\n",
       "      <td>None</td>\n",
       "    </tr>\n",
       "    <tr>\n",
       "      <th>strImageSource</th>\n",
       "      <td>None</td>\n",
       "    </tr>\n",
       "    <tr>\n",
       "      <th>strImageAttribution</th>\n",
       "      <td>None</td>\n",
       "    </tr>\n",
       "    <tr>\n",
       "      <th>strCreativeCommonsConfirmed</th>\n",
       "      <td>No</td>\n",
       "    </tr>\n",
       "    <tr>\n",
       "      <th>dateModified</th>\n",
       "      <td>2017-01-14 21:47:26</td>\n",
       "    </tr>\n",
       "  </tbody>\n",
       "</table>\n",
       "</div>"
      ],
      "text/plain": [
       "                                                                             0\n",
       "idDrink                                                                  12668\n",
       "strDrink                                                             Egg Cream\n",
       "strDrinkAlternate                                                         None\n",
       "strTags                                                                   None\n",
       "strVideo                                                                  None\n",
       "strCategory                                                    Other / Unknown\n",
       "strIBA                                                                    None\n",
       "strAlcoholic                                                     Non alcoholic\n",
       "strGlass                                                            Coffee mug\n",
       "strInstructions              Mix syrup and milk in a fountain glass. Add so...\n",
       "strInstructionsES                                                         None\n",
       "strInstructionsDE            Sirup und Milch in einem Fontänenglas mischen....\n",
       "strInstructionsFR                                                         None\n",
       "strInstructionsIT            Mescolare lo sciroppo e il latte in un bicchie...\n",
       "strInstructionsZH-HANS                                                    None\n",
       "strInstructionsZH-HANT                                                    None\n",
       "strDrinkThumb                https://www.thecocktaildb.com/images/media/dri...\n",
       "strIngredient1                                                 Chocolate syrup\n",
       "strIngredient2                                                            Milk\n",
       "strIngredient3                                                      Soda water\n",
       "strIngredient4                                                            None\n",
       "strIngredient5                                                            None\n",
       "strIngredient6                                                            None\n",
       "strIngredient7                                                            None\n",
       "strIngredient8                                                            None\n",
       "strIngredient9                                                            None\n",
       "strIngredient10                                                           None\n",
       "strIngredient11                                                           None\n",
       "strIngredient12                                                           None\n",
       "strIngredient13                                                           None\n",
       "strIngredient14                                                           None\n",
       "strIngredient15                                                           None\n",
       "strMeasure1                                                           2 tblsp \n",
       "strMeasure2                                                        6 oz whole \n",
       "strMeasure3                                                              6 oz \n",
       "strMeasure4                                                               None\n",
       "strMeasure5                                                               None\n",
       "strMeasure6                                                               None\n",
       "strMeasure7                                                               None\n",
       "strMeasure8                                                               None\n",
       "strMeasure9                                                               None\n",
       "strMeasure10                                                              None\n",
       "strMeasure11                                                              None\n",
       "strMeasure12                                                              None\n",
       "strMeasure13                                                              None\n",
       "strMeasure14                                                              None\n",
       "strMeasure15                                                              None\n",
       "strImageSource                                                            None\n",
       "strImageAttribution                                                       None\n",
       "strCreativeCommonsConfirmed                                                 No\n",
       "dateModified                                               2017-01-14 21:47:26"
      ]
     },
     "execution_count": 10,
     "metadata": {},
     "output_type": "execute_result"
    }
   ],
   "source": [
    "cocktail_df.T"
   ]
  },
  {
   "cell_type": "code",
   "execution_count": null,
   "id": "0171f7e4-23be-41e6-9027-ace7227d7d77",
   "metadata": {},
   "outputs": [],
   "source": []
  }
 ],
 "metadata": {
  "kernelspec": {
   "display_name": "Python 3 (ipykernel)",
   "language": "python",
   "name": "python3"
  },
  "language_info": {
   "codemirror_mode": {
    "name": "ipython",
    "version": 3
   },
   "file_extension": ".py",
   "mimetype": "text/x-python",
   "name": "python",
   "nbconvert_exporter": "python",
   "pygments_lexer": "ipython3",
   "version": "3.9.13"
  }
 },
 "nbformat": 4,
 "nbformat_minor": 5
}
