{
 "cells": [
  {
   "cell_type": "markdown",
   "id": "677224c0-decb-4c59-af34-42eb7e194266",
   "metadata": {},
   "source": [
    "# Webscraping Rotten Tomatoes"
   ]
  },
  {
   "cell_type": "code",
   "execution_count": null,
   "id": "8e7434e1-900a-4bcc-9f4b-688d8dbd9937",
   "metadata": {},
   "outputs": [],
   "source": [
    "import numpy as np\n",
    "import pandas as pd\n",
    "import requests\n",
    "import json\n",
    "from bs4 import BeautifulSoup"
   ]
  },
  {
   "cell_type": "code",
   "execution_count": null,
   "id": "001e9899-ea3d-45bb-9e1d-f9e17ff171b9",
   "metadata": {},
   "outputs": [],
   "source": [
    "r = requests.get('https://httpbin.org/user-agent')\n",
    "useragent = json.loads(r.text)['user-agent']\n",
    "useragent"
   ]
  },
  {
   "cell_type": "code",
   "execution_count": null,
   "id": "d80038cc-0d10-45d7-917f-8d332a7b5f33",
   "metadata": {},
   "outputs": [],
   "source": [
    "headers = {'User-agent': useragent,\n",
    "          'From': 'atr8ec@virginia.edu'}"
   ]
  },
  {
   "cell_type": "code",
   "execution_count": null,
   "id": "4104a91d-6a36-4df6-931b-487a5c095415",
   "metadata": {},
   "outputs": [],
   "source": [
    "url = 'https://www.rottentomatoes.com/browse/movies_in_theaters'\n",
    "r = requests.get(url, headers)\n",
    "r"
   ]
  },
  {
   "cell_type": "code",
   "execution_count": null,
   "id": "55405a2d-ccaf-461f-861a-f617bb4929b1",
   "metadata": {},
   "outputs": [],
   "source": [
    "mysoup = BeautifulSoup(r.text, 'html.parser')"
   ]
  },
  {
   "cell_type": "code",
   "execution_count": null,
   "id": "db53721c-7c06-4b87-a6b5-45efedc67bf6",
   "metadata": {},
   "outputs": [],
   "source": [
    "#mysoup"
   ]
  },
  {
   "cell_type": "code",
   "execution_count": null,
   "id": "fa515097-279c-4c3b-b45c-9117eba61bce",
   "metadata": {},
   "outputs": [],
   "source": [
    "mylist = mysoup.find_all('tile-dynamic')"
   ]
  },
  {
   "cell_type": "code",
   "execution_count": null,
   "id": "379bbe7e-a573-46b6-a6d1-8637ce811527",
   "metadata": {},
   "outputs": [],
   "source": [
    "#mylist"
   ]
  },
  {
   "cell_type": "code",
   "execution_count": null,
   "id": "d94b9861-f259-45b4-8716-2e20dabe33e2",
   "metadata": {},
   "outputs": [],
   "source": [
    "m = mylist[0]"
   ]
  },
  {
   "cell_type": "code",
   "execution_count": null,
   "id": "0869848c-fe81-4de5-9d4d-9db02d342e7a",
   "metadata": {},
   "outputs": [],
   "source": [
    "m"
   ]
  },
  {
   "cell_type": "code",
   "execution_count": null,
   "id": "69ede5c5-be72-4a06-8c8d-8d88c76cfba8",
   "metadata": {},
   "outputs": [],
   "source": [
    "m.find_all('span', 'p--small')[0].string"
   ]
  },
  {
   "cell_type": "code",
   "execution_count": null,
   "id": "e48174f5-f837-4847-8f3f-01208f09b0ea",
   "metadata": {},
   "outputs": [],
   "source": [
    "#[m.find_all('span', 'p--small')[0].string for m in mylist] # or .text"
   ]
  },
  {
   "cell_type": "code",
   "execution_count": null,
   "id": "2d30b74e-c77d-477e-8497-6c19cc00f7f7",
   "metadata": {},
   "outputs": [],
   "source": [
    "mylist[30].find_all('span', 'p--small')[0].text.strip()"
   ]
  },
  {
   "cell_type": "code",
   "execution_count": null,
   "id": "10aeac1e-1a74-45d4-9936-19b5f5f3d9aa",
   "metadata": {},
   "outputs": [],
   "source": [
    "mylist = mylist[10:]\n",
    "mylist[0].find_all('span', 'p--small')[0]"
   ]
  },
  {
   "cell_type": "code",
   "execution_count": null,
   "id": "7c93e588-62e2-4717-aa83-600bf213e1ad",
   "metadata": {
    "tags": []
   },
   "outputs": [],
   "source": [
    "mylist[0].find_all('span', 'p--small')[0].text.strip()"
   ]
  },
  {
   "cell_type": "code",
   "execution_count": null,
   "id": "b0a6f1e4-a612-4513-b47c-fe62ff945b3a",
   "metadata": {},
   "outputs": [],
   "source": [
    "titles = [m.find_all('span', 'p--small')[0].text.strip() for m in mylist]\n",
    "#titles"
   ]
  },
  {
   "cell_type": "code",
   "execution_count": null,
   "id": "ec81621f-7f4c-4956-a565-04199a49aecd",
   "metadata": {},
   "outputs": [],
   "source": [
    "#mylist[4]"
   ]
  },
  {
   "cell_type": "code",
   "execution_count": null,
   "id": "98b151ad-558a-4a2f-ae36-a7c5bb24483b",
   "metadata": {},
   "outputs": [],
   "source": [
    "mylist[4].find_all('score-icon-audience')[0]['sentiment']"
   ]
  },
  {
   "cell_type": "code",
   "execution_count": null,
   "id": "22e578b6-6a39-4799-8b60-514c19352617",
   "metadata": {},
   "outputs": [],
   "source": [
    "audiencecertified = [m.find_all('score-icon-audience')[0]['certified'] for m in mylist]\n",
    "audiencescore = [m.find_all('rt-text')[1].text.strip() for m in mylist]\n",
    "audiencesentiment = [m.find_all('score-icon-audience')[0]['sentiment'] for m in mylist]\n",
    "criticscertified = [m.find_all('score-icon-critics')[0]['certified'] for m in mylist]\n",
    "criticsscore = [m.find_all('rt-text')[0].text.strip() for m in mylist]\n",
    "criticssentiment = [m.find_all('score-icon-critics')[0]['sentiment'] for m in mylist]"
   ]
  },
  {
   "cell_type": "code",
   "execution_count": null,
   "id": "9909aa06-7faa-4073-a32b-89768e59fce7",
   "metadata": {},
   "outputs": [],
   "source": [
    "rt_data = pd.DataFrame({\n",
    "    'title':titles,\n",
    "    'audiencecertified':audiencecertified,\n",
    "    'audiencescore':audiencescore,\n",
    "    'audiencesentiment':audiencesentiment,\n",
    "    'criticscertified':criticscertified,\n",
    "    'criticsscore':criticsscore,\n",
    "    'criticssentiment':criticssentiment\n",
    "})"
   ]
  },
  {
   "cell_type": "code",
   "execution_count": null,
   "id": "d1824cc9-3c58-4ac7-af1f-db15f3398b65",
   "metadata": {},
   "outputs": [],
   "source": [
    "rt_data"
   ]
  },
  {
   "cell_type": "code",
   "execution_count": null,
   "id": "36b878c5-8f4f-4ade-a74b-9af324bb8cc5",
   "metadata": {},
   "outputs": [],
   "source": [
    "mylist = mysoup.find_all('a', attrs = {'data-qa':\"discovery-media-list-item\"})"
   ]
  },
  {
   "cell_type": "code",
   "execution_count": null,
   "id": "3aa099e7-04d3-4c76-a117-7dc9cd0da211",
   "metadata": {},
   "outputs": [],
   "source": [
    "['https://rottentomatoes.com' + m['href'] for m in mylist]"
   ]
  },
  {
   "cell_type": "code",
   "execution_count": null,
   "id": "6a278cde-c0f3-4e22-8280-7de760ec80a4",
   "metadata": {},
   "outputs": [],
   "source": []
  }
 ],
 "metadata": {
  "kernelspec": {
   "display_name": "Python 3 (ipykernel)",
   "language": "python",
   "name": "python3"
  },
  "language_info": {
   "codemirror_mode": {
    "name": "ipython",
    "version": 3
   },
   "file_extension": ".py",
   "mimetype": "text/x-python",
   "name": "python",
   "nbconvert_exporter": "python",
   "pygments_lexer": "ipython3",
   "version": "3.9.13"
  }
 },
 "nbformat": 4,
 "nbformat_minor": 5
}
